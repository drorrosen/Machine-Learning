{
 "cells": [
  {
   "cell_type": "code",
   "execution_count": 1,
   "metadata": {},
   "outputs": [],
   "source": [
    "from PIL import Image\n",
    "from matplotlib.pyplot import imshow\n",
    "import numpy as np\n",
    "%matplotlib inline\n",
    "\n",
    "\n",
    "# Functions for handeling the images \n",
    "def show_image(path):\n",
    "    '''\n",
    "    Read the image and show it\n",
    "    Returns the image\n",
    "    '''\n",
    "    img = Image.open(path)\n",
    "    return img\n",
    "\n",
    "def read_image(image):\n",
    "    '''\n",
    "    Store the image as an array.\n",
    "    Returns 3 dimensional image array\n",
    "    \n",
    "    '''\n",
    "    img_array = np.array(image, dtype='int64')\n",
    "    image.close()\n",
    "    return img_array\n",
    "\n",
    "    \n",
    "def reshape_array_2D(img_array):\n",
    "    \n",
    "    '''\n",
    "    reshape a 3D  image array into a 2D  image array\n",
    "    input: 3 dimensional array\n",
    "    '''\n",
    "    r, c, l = img_array.shape\n",
    "    #Flattening the image into a 2d array\n",
    "    image_reshaped = np.reshape(img_array, (r*c, l),order='C')\n",
    "    return image_reshaped\n",
    "\n",
    "def preparation_k_methods(path):\n",
    "    '''\n",
    "    Main function for handeling the image and prepare it before k-means/medoids\n",
    "    '''\n",
    "    img = show_image(path)\n",
    "    img_array = read_image(img)\n",
    "    img_reshaped = reshape_array_2D(img_array)\n",
    "    return img_reshaped"
   ]
  },
  {
   "cell_type": "markdown",
   "metadata": {},
   "source": [
    "### K-means and K-medoids algorithms"
   ]
  },
  {
   "cell_type": "code",
   "execution_count": 2,
   "metadata": {},
   "outputs": [],
   "source": [
    "#Initialize the cluster centers and choose k number of clusters\n",
    "def init_clusters(arr_reshaped, k):\n",
    "    '''\n",
    "    k is the number of clusters.\n",
    "    arr_reshaped is a 2 dimensional array of the image\n",
    "    Output: randomized initial clusters\n",
    "    '''\n",
    "    centers = arr_reshaped[np.random.randint(arr_reshaped.shape[0], size=(1, k))[0]]\n",
    "    return centers"
   ]
  },
  {
   "cell_type": "code",
   "execution_count": 3,
   "metadata": {},
   "outputs": [],
   "source": [
    "def dist_matrix(matrix, centers, order=2):\n",
    "    '''\n",
    "    Calculating the distance matrix\n",
    "    Input: image matrix array, centers and order of norm distance\n",
    "    Output: Distance matrix nxk\n",
    "    '''\n",
    "    n = len(matrix)\n",
    "    c = len(centers)\n",
    "    Dmatrix = np.empty((n,c))\n",
    "    if len(centers.shape) == 1:\n",
    "        centers = centers.reshape(1,3)\n",
    "    \n",
    "    for i in range(n):\n",
    "        d_i = np.linalg.norm(matrix[i,:] - centers, ord=order, axis=1)\n",
    "        Dmatrix[i, :] = np.power(d_i, order)\n",
    "    return Dmatrix"
   ]
  },
  {
   "cell_type": "code",
   "execution_count": 4,
   "metadata": {},
   "outputs": [],
   "source": [
    "def cluster_assignment(Dmatrix):\n",
    "    '''\n",
    "    Seperating the data points into clusters\n",
    "    Input: Distance matrix\n",
    "    Output: Labels of the clusters for each data point\n",
    "    '''\n",
    "    labels = np.argmin(Dmatrix, axis=1)\n",
    "    return labels"
   ]
  },
  {
   "cell_type": "code",
   "execution_count": 5,
   "metadata": {},
   "outputs": [],
   "source": [
    "def J_sum(Dmatrix):\n",
    "    '''\n",
    "    Calculating the loss function value\n",
    "    Input: Distance matrix\n",
    "    Output: a scalar\n",
    "    '''\n",
    "    return np.sum(np.amin(Dmatrix, axis=1))"
   ]
  },
  {
   "cell_type": "code",
   "execution_count": 6,
   "metadata": {},
   "outputs": [],
   "source": [
    "def cluster_update(matrix, labels, k):\n",
    "    '''\n",
    "    Finding the new center means for k-means\n",
    "    input: Image matrix 2D, labels, number of clusters k\n",
    "    '''\n",
    "    n, d = matrix.shape\n",
    "    new_centers = np.empty((k,d))\n",
    "    \n",
    "    for i in range(k):\n",
    "        new_centers[i, :] = np.mean(matrix[labels==i, :], axis=0)\n",
    "\n",
    "        \n",
    "    return new_centers\n",
    "        "
   ]
  },
  {
   "cell_type": "code",
   "execution_count": 7,
   "metadata": {},
   "outputs": [],
   "source": [
    "def center_convergence(old_centers, new_centers):\n",
    "    return [list(center) for center in old_centers] == [list(center) for center in new_centers]"
   ]
  },
  {
   "cell_type": "code",
   "execution_count": null,
   "metadata": {},
   "outputs": [],
   "source": [
    "def kmeans(matrix, k):\n",
    "    \n",
    "    centers = init_clusters(matrix, k)\n",
    "    converged = False\n",
    "    \n",
    "    while (converged != True):\n",
    "            \n",
    "        distance_matrix = dist_matrix(matrix,centers)\n",
    "        labels = cluster_assignment(distance_matrix)\n",
    "        new_centers = cluster_update(matrix, labels, k) \n",
    "        converged = center_convergence(centers , new_centers)\n",
    "        #updating\n",
    "        centers = new_centers\n",
    "    \n",
    "    \n",
    "    return centers, labels, J_sum(distance_matrix)\n",
    "        \n",
    "        \n",
    "        "
   ]
  },
  {
   "cell_type": "code",
   "execution_count": 11,
   "metadata": {},
   "outputs": [],
   "source": [
    "def medoids_update(matrix, labels, centers, k):\n",
    "    '''\n",
    "    Finding new center points for k-medoids\n",
    "    input: Image matrix 2D, labels, number of clusters k\n",
    "    '''\n",
    "    old_centers = np.empty(centers.shape)\n",
    "    for i in range(k):\n",
    "        cluster_points = np.unique(matrix[labels == i, :],axis=0)\n",
    "        print(i)\n",
    "        #calculating matrix distances in a group and picking the value with the least sum of distances from it\n",
    "        sum_of_distances = np.linalg.norm(cluster_points - cluster_points[:, None], axis =-1).sum(axis=1)\n",
    "        best_datp_index = np.where(sum_of_distances == np.min(sum_of_distances))[0][0]\n",
    "        old_centers[i, :] = cluster_points[best_datp_index]\n",
    "    return old_centers\n",
    "        \n",
    "        "
   ]
  },
  {
   "cell_type": "code",
   "execution_count": 20,
   "metadata": {},
   "outputs": [],
   "source": [
    "def kmedoids(matrix, k, order):\n",
    "    centers = init_clusters(matrix, k)\n",
    "    converged = False\n",
    "    while (converged != True):\n",
    "            \n",
    "        distance_matrix = dist_matrix(matrix,centers, order)\n",
    "        labels = cluster_assignment(distance_matrix)\n",
    "        new_centers = medoids_update(matrix,labels, centers, k) \n",
    "        converged = center_convergence(centers , new_centers)\n",
    "        #updating\n",
    "        centers = new_centers\n",
    "    \n",
    "    \n",
    "    return centers, labels, J_sum(distance_matrix)\n",
    "    "
   ]
  },
  {
   "cell_type": "code",
   "execution_count": 21,
   "metadata": {},
   "outputs": [],
   "source": [
    "#matrix = preparation_k_methods('beach.bmp')\n"
   ]
  }
 ],
 "metadata": {
  "kernelspec": {
   "display_name": "Python 3",
   "language": "python",
   "name": "python3"
  },
  "language_info": {
   "codemirror_mode": {
    "name": "ipython",
    "version": 3
   },
   "file_extension": ".py",
   "mimetype": "text/x-python",
   "name": "python",
   "nbconvert_exporter": "python",
   "pygments_lexer": "ipython3",
   "version": "3.7.3"
  }
 },
 "nbformat": 4,
 "nbformat_minor": 2
}
