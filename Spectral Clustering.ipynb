{
 "cells": [
  {
   "cell_type": "code",
   "execution_count": 1,
   "metadata": {},
   "outputs": [],
   "source": [
    "import pandas as pd\n",
    "import numpy as np\n",
    "#K-means Function from homework 1\n",
    "import Kmeans_HW1 as Kmeans"
   ]
  },
  {
   "cell_type": "code",
   "execution_count": 2,
   "metadata": {},
   "outputs": [],
   "source": [
    "def open_file(txt_file):\n",
    "    file = pd.read_csv(txt_file, sep='\\t', header=-1)\n",
    "    return file"
   ]
  },
  {
   "cell_type": "code",
   "execution_count": 3,
   "metadata": {},
   "outputs": [],
   "source": [
    "def main(K):\n",
    "    '''\n",
    "    Run the Spectral Clustering method with Kmeans.\n",
    "    Input: Number of clusters\n",
    "    Output: accuracy score between the predictions and real values\n",
    "    '''\n",
    "    #reading nodes\n",
    "    nodes = open_file('nodes.txt')\n",
    "    nodes.set_index(0, inplace=True)\n",
    "    #reading edges\n",
    "    edges = open_file('edges.txt')\n",
    "    edges.sort_values(by=0, inplace=True) \n",
    "    #Creating the Adjacency matrix A\n",
    "    A = pd.crosstab(edges[0], edges[1])\n",
    "    idx = A.columns.union(A.index)\n",
    "    A = A.reindex(index = idx, columns=idx, fill_value=0)\n",
    "    A_indices = A.index\n",
    "    A = A.values\n",
    "    #Creating the D matrix\n",
    "    D = np.diag(np.sum(A, axis=1))\n",
    "    #Creating the Laplacian matrix\n",
    "    L = D - A\n",
    "    #extracting eigenvectors and eigenvalues\n",
    "    s, v = np.linalg.eigh(L)\n",
    "    v = v[:, :K]\n",
    "    #running Kmeans on the eigenvectors\n",
    "    centers, y_pred, loss_sum = Kmeans.kmeans(v, 2)\n",
    "    #comparison between real values to predictions\n",
    "    y_true = nodes.loc[A_indices, 2]\n",
    "    accuracy_score = np.mean(y_true == y_pred)\n",
    "    return y_pred, y_true, accuracy_score"
   ]
  },
  {
   "cell_type": "code",
   "execution_count": 4,
   "metadata": {},
   "outputs": [
    {
     "name": "stdout",
     "output_type": "stream",
     "text": [
      "0.7369281045751634\n"
     ]
    }
   ],
   "source": [
    "#running the process\n",
    "if __name__ == \"__main__\":\n",
    "    y_pred, y_true,score = main(2)\n",
    "print(score)"
   ]
  },
  {
   "cell_type": "code",
   "execution_count": 5,
   "metadata": {},
   "outputs": [],
   "source": [
    "score_df = pd.DataFrame({\"True labels\":y_true, \"Predictions\":y_pred})\n",
    "score_df.to_csv(\"Spectral Clustering comparison.csv\")"
   ]
  }
 ],
 "metadata": {
  "kernelspec": {
   "display_name": "Python 3",
   "language": "python",
   "name": "python3"
  },
  "language_info": {
   "codemirror_mode": {
    "name": "ipython",
    "version": 3
   },
   "file_extension": ".py",
   "mimetype": "text/x-python",
   "name": "python",
   "nbconvert_exporter": "python",
   "pygments_lexer": "ipython3",
   "version": "3.6.8"
  }
 },
 "nbformat": 4,
 "nbformat_minor": 2
}
