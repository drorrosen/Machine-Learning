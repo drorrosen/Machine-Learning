{
 "cells": [
  {
   "cell_type": "code",
   "execution_count": 1,
   "metadata": {},
   "outputs": [],
   "source": [
    "import pandas as pd\n",
    "import numpy as np\n",
    "import matplotlib.pyplot as plt\n",
    "import seaborn as sns\n",
    "from sklearn.linear_model import LinearRegression\n",
    "from sklearn.model_selection import train_test_split\n",
    "from sklearn.metrics import mean_squared_error\n",
    "from sklearn.preprocessing import PolynomialFeatures\n",
    "from sklearn.linear_model import Ridge\n",
    "from sklearn.model_selection import GridSearchCV\n",
    "from sklearn.model_selection import KFold"
   ]
  },
  {
   "cell_type": "code",
   "execution_count": 2,
   "metadata": {},
   "outputs": [
    {
     "data": {
      "text/html": [
       "<div>\n",
       "<style scoped>\n",
       "    .dataframe tbody tr th:only-of-type {\n",
       "        vertical-align: middle;\n",
       "    }\n",
       "\n",
       "    .dataframe tbody tr th {\n",
       "        vertical-align: top;\n",
       "    }\n",
       "\n",
       "    .dataframe thead th {\n",
       "        text-align: right;\n",
       "    }\n",
       "</style>\n",
       "<table border=\"1\" class=\"dataframe\">\n",
       "  <thead>\n",
       "    <tr style=\"text-align: right;\">\n",
       "      <th></th>\n",
       "      <th>0</th>\n",
       "      <th>1</th>\n",
       "    </tr>\n",
       "  </thead>\n",
       "  <tbody>\n",
       "    <tr>\n",
       "      <th>0</th>\n",
       "      <td>0.591</td>\n",
       "      <td>24.41</td>\n",
       "    </tr>\n",
       "    <tr>\n",
       "      <th>1</th>\n",
       "      <td>4.703</td>\n",
       "      <td>54.98</td>\n",
       "    </tr>\n",
       "    <tr>\n",
       "      <th>2</th>\n",
       "      <td>9.470</td>\n",
       "      <td>89.57</td>\n",
       "    </tr>\n",
       "    <tr>\n",
       "      <th>3</th>\n",
       "      <td>11.615</td>\n",
       "      <td>114.26</td>\n",
       "    </tr>\n",
       "    <tr>\n",
       "      <th>4</th>\n",
       "      <td>12.970</td>\n",
       "      <td>133.61</td>\n",
       "    </tr>\n",
       "  </tbody>\n",
       "</table>\n",
       "</div>"
      ],
      "text/plain": [
       "        0       1\n",
       "0   0.591   24.41\n",
       "1   4.703   54.98\n",
       "2   9.470   89.57\n",
       "3  11.615  114.26\n",
       "4  12.970  133.61"
      ]
     },
     "execution_count": 2,
     "metadata": {},
     "output_type": "execute_result"
    }
   ],
   "source": [
    "#read data\n",
    "df = pd.read_csv('copper-new.txt', header=None, sep='\\s+')\n",
    "df.head()"
   ]
  },
  {
   "cell_type": "code",
   "execution_count": 3,
   "metadata": {},
   "outputs": [
    {
     "data": {
      "image/png": "[encoded data removed]",
      "text/plain": [
       "<Figure size 432x288 with 1 Axes>"
      ]
     },
     "metadata": {
      "needs_background": "light"
     },
     "output_type": "display_data"
    }
   ],
   "source": [
    "#Plotting the relationship between the 2 features\n",
    "plt.scatter(df[1], df[0])\n",
    "plt.xlabel('temperature')\n",
    "plt.ylabel('coefficient of thermal expansion')\n",
    "plt.show()"
   ]
  },
  {
   "cell_type": "markdown",
   "metadata": {},
   "source": [
    "#### 1) Perform linear regression on the data. Report the fitted model and the fitting error."
   ]
  },
  {
   "cell_type": "code",
   "execution_count": 4,
   "metadata": {},
   "outputs": [],
   "source": [
    "#Let's get the intercept and coefficients, using the same regression model with sklearn\n",
    "X = df[[1]]\n",
    "y = df[0]\n",
    "#splitting to train and test\n",
    "X_train, X_test, y_train, y_test = train_test_split(X, y, test_size=0.2, random_state=42)"
   ]
  },
  {
   "cell_type": "code",
   "execution_count": 5,
   "metadata": {},
   "outputs": [
    {
     "name": "stdout",
     "output_type": "stream",
     "text": [
      "intercept:  7.440640229144395\n",
      "coefficients:  0.02169922097290207\n",
      "MSE:  12.986921759444277\n"
     ]
    }
   ],
   "source": [
    "#Fit the linear model\n",
    "model1 = LinearRegression()\n",
    "results = model1.fit(X_train,y_train)\n",
    "#print the coefficients\n",
    "print('intercept: ',model1.intercept_)\n",
    "print('coefficients: ', model1.coef_[0])\n",
    "#prediction\n",
    "y_pred = model1.predict(X_test)\n",
    "print(\"MSE: \", mean_squared_error(y_test, y_pred))"
   ]
  },
  {
   "cell_type": "markdown",
   "metadata": {},
   "source": [
    "Our simple linear model - y = 7.44 + 0.0217x"
   ]
  },
  {
   "cell_type": "markdown",
   "metadata": {},
   "source": [
    "#### Perform nonlinear regression with polynomial regression function up to degree n = 10 and use ridge regression (see Lecture Slides for “Bias-Variance Tradeoff”). Write down your formulation and strategy for doing this, the form of the ridge regression."
   ]
  },
  {
   "cell_type": "code",
   "execution_count": 6,
   "metadata": {},
   "outputs": [],
   "source": [
    "def polynomial_ridge(X, y, poly_degree):\n",
    "    polynomial_features= PolynomialFeatures(degree=poly_degree)\n",
    "    X_new = polynomial_features.fit_transform(X)\n",
    "    #Splitting to train test\n",
    "    X_train, X_test, y_train, y_test = train_test_split(X_new, y, test_size=0.2, random_state=42)\n",
    "    #gridsearch with ridge\n",
    "    parameters = {'alpha':np.arange(0, 10, 0.1)}\n",
    "    # define the model/ estimator\n",
    "    model = Ridge(normalize=True)\n",
    "    # define the grid search\n",
    "    ridge_reg= GridSearchCV(model, parameters, scoring='neg_mean_squared_error')\n",
    "    ridge_reg = ridge_reg.fit(X_train, y_train)\n",
    "    #prediction \n",
    "    return ridge_reg, mean_squared_error(y_test, ridge_reg.predict(X_test))\n",
    "    "
   ]
  },
  {
   "cell_type": "code",
   "execution_count": 7,
   "metadata": {},
   "outputs": [
    {
     "data": {
      "image/png": "[encoded data removed]",
      "text/plain": [
       "<Figure size 576x576 with 1 Axes>"
      ]
     },
     "metadata": {},
     "output_type": "display_data"
    }
   ],
   "source": [
    "degrees = np.arange(11)\n",
    "poly_ridge_dict = {}\n",
    "for degree in degrees:\n",
    "    _, poly_ridge_dict[degree] = polynomial_ridge(X, y, degree)\n",
    "    \n",
    "sns.set()\n",
    "f = plt.figure(figsize=(8,8))\n",
    "plt.plot(poly_ridge_dict.keys(), poly_ridge_dict.values())\n",
    "plt.axvline(x=np.argmin(pd.Series(poly_ridge_dict)), color='red')\n",
    "plt.xlabel('number of degrees')\n",
    "plt.ylabel('MSE')\n",
    "plt.show()"
   ]
  },
  {
   "cell_type": "markdown",
   "metadata": {},
   "source": [
    "Comment: For polynomial degree I built a ridge model. In order to find the best alpha parameter in the ridge model, I used grid search. With the model, I calculated the MSE on the test set. Eventually I had an MSE value for each of the ridge models. I took the model where the polynomial degree is 6, because it has the lowest MSE among them."
   ]
  },
  {
   "cell_type": "markdown",
   "metadata": {},
   "source": [
    "#### Comment 2:\n",
    "I only now read that we just need to describe the steps and treat our model like it is with degree=10.\n",
    "Steps: \n",
    "First, we will perform a cross validation to find our lambda.\n",
    "For every polynomial degree I will find its best lambda and then I will fit the ridge regression and calculate its MSE and then compare against the other models. \n",
    "\n",
    "(For part 2, you have to describe the steps and no need to consider polynomial regression from n=1 to 10, only degree = 10 is applied in Q2 partb.) "
   ]
  },
  {
   "cell_type": "code",
   "execution_count": 8,
   "metadata": {},
   "outputs": [
    {
     "data": {
      "text/plain": [
       "(GridSearchCV(cv=None, error_score=nan,\n",
       "              estimator=Ridge(alpha=1.0, copy_X=True, fit_intercept=True,\n",
       "                              max_iter=None, normalize=True, random_state=None,\n",
       "                              solver='auto', tol=0.001),\n",
       "              iid='deprecated', n_jobs=None,\n",
       "              param_grid={'alpha': array([0. , 0.1, 0.2, 0.3, 0.4, 0.5, 0.6, 0.7, 0.8, 0.9, 1. , 1.1, 1.2,\n",
       "        1.3, 1.4, 1.5, 1.6, 1.7, 1.8, 1.9, 2. , 2.1, 2.2, 2.3, 2.4, 2.5,\n",
       "        2.6, 2.7, 2.8, 2.9, 3. , 3.1, 3.2,...7, 3.8,\n",
       "        3.9, 4. , 4.1, 4.2, 4.3, 4.4, 4.5, 4.6, 4.7, 4.8, 4.9, 5. , 5.1,\n",
       "        5.2, 5.3, 5.4, 5.5, 5.6, 5.7, 5.8, 5.9, 6. , 6.1, 6.2, 6.3, 6.4,\n",
       "        6.5, 6.6, 6.7, 6.8, 6.9, 7. , 7.1, 7.2, 7.3, 7.4, 7.5, 7.6, 7.7,\n",
       "        7.8, 7.9, 8. , 8.1, 8.2, 8.3, 8.4, 8.5, 8.6, 8.7, 8.8, 8.9, 9. ,\n",
       "        9.1, 9.2, 9.3, 9.4, 9.5, 9.6, 9.7, 9.8, 9.9])},\n",
       "              pre_dispatch='2*n_jobs', refit=True, return_train_score=False,\n",
       "              scoring='neg_mean_squared_error', verbose=0),\n",
       " 9.584486334231862)"
      ]
     },
     "execution_count": 8,
     "metadata": {},
     "output_type": "execute_result"
    }
   ],
   "source": [
    "#Preparing polynomail ridge regression with degrees equal to 10\n",
    "ridge_10 = polynomial_ridge(X, y, poly_degree=10)\n",
    "ridge_10"
   ]
  },
  {
   "cell_type": "markdown",
   "metadata": {},
   "source": [
    "#### Use 5 fold cross validation to select the optimal regularization parameter λ. Plot the cross validation curve and report the optimal λ."
   ]
  },
  {
   "cell_type": "code",
   "execution_count": 52,
   "metadata": {},
   "outputs": [],
   "source": [
    "#looping over lambdas and perform Kfold on each one of them to find the CV MSE.\n",
    "polynomial_features= PolynomialFeatures(degree=10)\n",
    "X_new = polynomial_features.fit_transform(X)\n",
    "#Splitting to train test and doing kfold \n",
    "X_train, X_test, y_train, y_test = train_test_split(X_new, y, test_size=0.2)\n",
    "kfold = KFold(n_splits=5)\n",
    "\n",
    "alphas = np.arange(0.01, 1, 0.01)\n",
    "result_dict = {}\n",
    "for alpha in alphas:\n",
    "    mse_list = []\n",
    "\n",
    "    for train, test in kfold.split(X_train):\n",
    "            model = Ridge(normalize=True, alpha=alpha)\n",
    "            model = model.fit(X_train[train], y_train.iloc[train])\n",
    "            y_pred = model.predict(X_train[test])\n",
    "            mse_list.append(mean_squared_error(y_train.iloc[test], y_pred))\n",
    "            \n",
    "    result_dict[alpha] = sum(mse_list) / kfold.n_splits"
   ]
  },
  {
   "cell_type": "code",
   "execution_count": 54,
   "metadata": {},
   "outputs": [],
   "source": [
    "#plotting CV MSE vs the lambdas\n",
    "#sns.set()\n",
    "#f = plt.figure(figsize=(8,8))\n",
    "#plt.plot(result_dict.keys(), result_dict.values(), 'r--')\n",
    "#plt.xlabel('lambda')\n",
    "#plt.ylabel('CV MSE')\n",
    "#plt.show()"
   ]
  },
  {
   "cell_type": "markdown",
   "metadata": {},
   "source": [
    "#### Predict the coefficient at 400 degree Kelvin using both models. Comment on how would you compare the accuracy of predictions."
   ]
  },
  {
   "cell_type": "markdown",
   "metadata": {},
   "source": [
    "I will test the simple linear model with the optimized model from part 2(with 10 degrees of freedom and optimized alpha.)."
   ]
  },
  {
   "cell_type": "code",
   "execution_count": 11,
   "metadata": {},
   "outputs": [
    {
     "name": "stdout",
     "output_type": "stream",
     "text": [
      "prediction for linear regression:  [16.12032862]\n",
      "prediction for ridge regression:  [18.27715219]\n"
     ]
    }
   ],
   "source": [
    "#simple linear regression model - \n",
    "print(\"prediction for linear regression: \",model1.predict(np.array(400).reshape(1,1)))\n",
    "#optimized ridge regression with polynomial degree=10 - \n",
    "optimized_series = pd.Series(result_dict)\n",
    "best_alpha = optimized_series.index[np.argmin(result_dict)]\n",
    "\n",
    "model2 = Ridge(normalize=True, alpha=best_alpha)\n",
    "model2 = model2.fit(X_train, y_train)\n",
    "ridge_pred = model2.predict(polynomial_features.transform(np.array(400).reshape(1,1)))\n",
    "print(\"prediction for ridge regression: \", ridge_pred)"
   ]
  },
  {
   "cell_type": "markdown",
   "metadata": {},
   "source": [
    "Comment: In regression models we can use adj. R^2 to compare the which model performs better. We can also use AIC,BIC to compare between models. "
   ]
  }
 ],
 "metadata": {
  "kernelspec": {
   "display_name": "Python 3",
   "language": "python",
   "name": "python3"
  },
  "language_info": {
   "codemirror_mode": {
    "name": "ipython",
    "version": 3
   },
   "file_extension": ".py",
   "mimetype": "text/x-python",
   "name": "python",
   "nbconvert_exporter": "python",
   "pygments_lexer": "ipython3",
   "version": "3.6.8"
  }
 },
 "nbformat": 4,
 "nbformat_minor": 4
}
